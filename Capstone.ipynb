{
    "nbformat_minor": 1, 
    "cells": [
        {
            "source": "# Capstone Project - The Battle of Neighbourhoods", 
            "cell_type": "markdown", 
            "metadata": {
                "collapsed": true
            }
        }, 
        {
            "source": "## Introduction / Business Problem", 
            "cell_type": "markdown", 
            "metadata": {}
        }, 
        {
            "source": "### The amount of times we hearing about AI,VR is getting increased day by day and he tought he will start a new kind in United States. By this idea, my friend Rasheed decided to start a VR park for all related to VR. It is meant to be indoor one and includes gaming,newest technologies implemented as well as learning spots.", 
            "cell_type": "markdown", 
            "metadata": {}
        }, 
        {
            "source": "Rasheed have been thinking about the same for the past 2 years and finally he decided this to be set up at one of the best place in United States. He defines a best locatlity based on the following constraints", 
            "cell_type": "markdown", 
            "metadata": {}
        }, 
        {
            "source": "-Population density of a locality  \n-Per Capital income  \n-Population of each location  \n-Venues in each locality  ", 
            "cell_type": "markdown", 
            "metadata": {}
        }, 
        {
            "source": "The category of the venues that he's interested in are:", 
            "cell_type": "markdown", 
            "metadata": {}
        }, 
        {
            "source": "-Arts and Entertainment  \n-Shops & Service  \n-College and University  \n-Event  \n-Food  \n-Nightife Spot  \n-Outdoors & Recreation  \n-Professional & Other places  \n-Residence  \n-Travel & Transport  ", 
            "cell_type": "markdown", 
            "metadata": {}
        }
    ], 
    "metadata": {
        "kernelspec": {
            "display_name": "Python 3.5", 
            "name": "python3", 
            "language": "python"
        }, 
        "language_info": {
            "mimetype": "text/x-python", 
            "nbconvert_exporter": "python", 
            "version": "3.5.5", 
            "name": "python", 
            "pygments_lexer": "ipython3", 
            "file_extension": ".py", 
            "codemirror_mode": {
                "version": 3, 
                "name": "ipython"
            }
        }
    }, 
    "nbformat": 4
}