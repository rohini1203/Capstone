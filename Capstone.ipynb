{
    "nbformat_minor": 1, 
    "cells": [
        {
            "source": "# Capstone Project - The Battle of Neighbourhoods", 
            "cell_type": "markdown", 
            "metadata": {
                "collapsed": true
            }
        }, 
        {
            "source": "## Introduction / Business Problem", 
            "cell_type": "markdown", 
            "metadata": {}
        }, 
        {
            "source": "### The amount of times we hearing about AI,VR is getting increased day by day and he tought he will start a new kind in United States. By this idea, my friend Rasheed decided to start a VR park for all related to VR. It is meant to be indoor one and includes gaming,newest technologies implemented as well as learning spots.", 
            "cell_type": "markdown", 
            "metadata": {}
        }, 
        {
            "source": "Rasheed have been thinking about the same for the past 2 years and finally he decided this to be set up at one of the best place in United States. He defines a best locatlity based on the following constraints", 
            "cell_type": "markdown", 
            "metadata": {}
        }, 
        {
            "source": "-Population density of a locality  \n-Per Capital income  \n-Population of each location  \n-Venues in each locality  ", 
            "cell_type": "markdown", 
            "metadata": {}
        }, 
        {
            "source": "The category of the venues that he's interested in are:", 
            "cell_type": "markdown", 
            "metadata": {}
        }, 
        {
            "source": "-Arts and Entertainment  \n-Shops & Service  \n-College and University  \n-Event  \n-Food  \n-Nightife Spot  \n-Outdoors & Recreation  \n-Professional & Other places  \n-Residence  \n-Travel & Transport  ", 
            "cell_type": "markdown", 
            "metadata": {}
        }, 
        {
            "source": "# Data", 
            "cell_type": "markdown", 
            "metadata": {}
        }, 
        {
            "source": "Rasheed was really into this and later me and my another friend decided to join him for his new venture. We then started to find where we gonna set up this new venture. We thought of setting up this in a place where there is large population density. VR can be actually expensive which lead to the another factor which is the Per Capita Income of the people in the city. Hence we thought that we will take data from", 
            "cell_type": "markdown", 
            "metadata": {}
        }, 
        {
            "source": "-List of all the cities in United States with population density and coordinates: https://en.wikipedia.org/wiki/List_of_United_States_cities_by_population", 
            "cell_type": "markdown", 
            "metadata": {}
        }, 
        {
            "source": "-List of all the cities in United States with Per Capita Income : https://en.wikipedia.org/wiki/List_of_United_States_counties_by_per_capita_income", 
            "cell_type": "markdown", 
            "metadata": {}
        }, 
        {
            "source": "Using Four Square API to get the following:", 
            "cell_type": "markdown", 
            "metadata": {}
        }, 
        {
            "source": "List of all venues in each city  \nList of all venues in each locality in the selected city  ", 
            "cell_type": "markdown", 
            "metadata": {}
        }, 
        {
            "source": "With all these factors, we first thought that we will find the city and then later do the same procedures  \nto which locality we must the reduce scope of the location", 
            "cell_type": "markdown", 
            "metadata": {}
        }
    ], 
    "metadata": {
        "kernelspec": {
            "display_name": "Python 3.5", 
            "name": "python3", 
            "language": "python"
        }, 
        "language_info": {
            "mimetype": "text/x-python", 
            "nbconvert_exporter": "python", 
            "version": "3.5.5", 
            "name": "python", 
            "pygments_lexer": "ipython3", 
            "file_extension": ".py", 
            "codemirror_mode": {
                "version": 3, 
                "name": "ipython"
            }
        }
    }, 
    "nbformat": 4
}